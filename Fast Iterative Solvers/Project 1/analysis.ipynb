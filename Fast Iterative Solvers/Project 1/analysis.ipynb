{
 "cells": [
  {
   "cell_type": "markdown",
   "id": "8498ca41",
   "metadata": {},
   "source": [
    "# Imports & Data"
   ]
  },
  {
   "cell_type": "markdown",
   "id": "74ab92f8",
   "metadata": {},
   "source": [
    "**Imports**"
   ]
  },
  {
   "cell_type": "code",
   "execution_count": null,
   "id": "229b6eb8",
   "metadata": {},
   "outputs": [],
   "source": [
    "# External Libraries\n",
    "import os\n",
    "import matplotlib.pyplot as plt\n",
    "import numpy as np\n",
    "from time import time\n",
    "# My Code\n",
    "from gmres import GMRES\n",
    "from msr_reader import msr_reader"
   ]
  },
  {
   "cell_type": "markdown",
   "id": "7bacf9da",
   "metadata": {},
   "source": [
    "**Read Matrices**"
   ]
  },
  {
   "cell_type": "code",
   "execution_count": null,
   "id": "941e0ba9",
   "metadata": {},
   "outputs": [],
   "source": [
    "# Paths\n",
    "directory = os.getcwd() + \"\\\\matrices\\\\\"\n",
    "matrix_files = [\"cg_matrix_msr_1.txt\", # 0\n",
    "            \"cg_matrix_msr_2.txt\", # 1\n",
    "            \"gmres_matrix_msr_1.txt\", # 2\n",
    "            \"msr_test_non_symmetric.txt\", # 3\n",
    "            \"msr_test_symmetric.txt\"] # 4\n",
    "\n",
    "# Read each matrix\n",
    "matrices = []\n",
    "for file in matrix_files:\n",
    "    path = directory + f\"{file}\"\n",
    "    matrices.append(msr_reader(path))"
   ]
  },
  {
   "cell_type": "markdown",
   "id": "ffca1624",
   "metadata": {},
   "source": [
    "# GMRES\n",
    "\n",
    "**Common Settings**"
   ]
  },
  {
   "cell_type": "code",
   "execution_count": null,
   "id": "33bd160b",
   "metadata": {},
   "outputs": [],
   "source": [
    "# Types of preconditioning applied\n",
    "preconditioners = [None,\n",
    "                   \"jacobi\",\n",
    "                   \"gauss_seidel\",\n",
    "                   \"ilu0\"]\n",
    "\n",
    "# Further Specifications\n",
    "A = matrices[2]\n",
    "n = A.shape[0]\n",
    "x = np.ones(n)\n",
    "x0 = np.zeros(n)\n",
    "b = A.dot(x)\n",
    "tol = 1e-8"
   ]
  },
  {
   "cell_type": "markdown",
   "id": "52b3dd39",
   "metadata": {},
   "source": [
    "# GMRES\n",
    "\n",
    "**Task 1: full GMRES**\n",
    "\n",
    "For the full GMRES method, with and without preconditioning, plot the relative residual\n",
    "against iteration index on a semi-log scale."
   ]
  },
  {
   "cell_type": "code",
   "execution_count": null,
   "id": "c8932f02",
   "metadata": {},
   "outputs": [],
   "source": [
    "# Max number of Krylov vectors\n",
    "ms = [600]\n",
    "\n",
    "# Timing\n",
    "durations = []\n",
    "last_time = time()\n",
    "# Loop\n",
    "results = []\n",
    "for m in ms:\n",
    "    for preconditioner in preconditioners:\n",
    "        x_approx, errors = GMRES(A, b, x0, m, tol, preconditioner, max_iterations=1000)\n",
    "        results.append(errors)\n",
    "        # Status message\n",
    "        durations.append(round(time() - last_time, 3))\n",
    "        last_time = time()\n",
    "        n_conv = len(errors)\n",
    "        print(f\"Test 1: sek={durations[-1]}, m={m}, prec={preconditioner} iterations={n_conv} ok\")"
   ]
  },
  {
   "cell_type": "markdown",
   "id": "ef6747c4",
   "metadata": {},
   "source": [
    "**Results**\n",
    "\n",
    "Test 1: sek=7.166, m=600, prec=None iterations=562 ok\n",
    "\n",
    "Test 1: sek=3.801, m=600, prec=jacobi iterations=44 ok\n",
    "\n",
    "Test 1: sek=3.303, m=600, prec=gauss_seidel iterations=26 ok\n",
    "\n",
    "Test 1: sek=72.846, m=600, prec=ilu0 iterations=17 ok\n"
   ]
  },
  {
   "cell_type": "code",
   "execution_count": null,
   "id": "fc88900d",
   "metadata": {},
   "outputs": [],
   "source": [
    "# Print & Plot results\n",
    "plt.figure(figsize=(10, 4))\n",
    "\n",
    "for i, errors in enumerate(results):\n",
    "    # Print number of iterations for convergence\n",
    "    n_conv = len(errors)\n",
    "    iterations = range(n_conv)\n",
    "    plt.plot(iterations, np.abs(errors), label=f'{preconditioners[i]}')\n",
    "\n",
    "# Grid and Scale\n",
    "plt.yscale('log')\n",
    "plt.grid(True)\n",
    "plt.xlim([0, 600])\n",
    "plt.ylim([1e-8, 1])\n",
    "tick_width = 50\n",
    "plt.xticks([tick_width*i for i in range(int(650/tick_width))])\n",
    "\n",
    "# Annotations\n",
    "plt.xlabel('Iteration')\n",
    "plt.ylabel('Residual Norm (log scale)')\n",
    "plt.title(f'Convergence of full GMRES with and without preconditioning')\n",
    "plt.legend()\n",
    "\n",
    "# Save and Plot\n",
    "filename = \"conv_full_gmres.png\"\n",
    "plt.savefig(filename, dpi=300)\n",
    "plt.show()"
   ]
  },
  {
   "cell_type": "markdown",
   "id": "8276f418",
   "metadata": {},
   "source": [
    "**Task 2: GMRES(m)**\n",
    "\n",
    "For GMRES(m), test and compare the following restart parameters m = 10, 50, 200 with\n",
    "the runtime required by the full GMRES."
   ]
  },
  {
   "cell_type": "code",
   "execution_count": null,
   "id": "beaeea9e",
   "metadata": {},
   "outputs": [],
   "source": [
    "# Max number of Krylov vectors\n",
    "ms = [10, 50, 200]\n",
    "\n",
    "# Timing\n",
    "durations = []\n",
    "last_time = time()\n",
    "\n",
    "# Loop\n",
    "results = []\n",
    "for m in ms:\n",
    "    for preconditioner in preconditioners:\n",
    "        x_approx, errors = GMRES(A, b, x0, m, tol, preconditioner, max_iterations=1000)\n",
    "        # Status message\n",
    "        durations.append(round(time() - last_time, 3))\n",
    "        last_time = time()\n",
    "        n_conv = len(errors)\n",
    "        if abs(errors[-1]) > 1:\n",
    "            print(f\"Test 2: sek={durations[-1]}, m={m}, prec={preconditioner} iterations={n_conv} diverged\")\n",
    "        else:\n",
    "            results.append(errors)\n",
    "            print(f\"Test 2: sek={durations[-1]}, m={m}, prec={preconditioner} iterations={n_conv} ok\")"
   ]
  },
  {
   "cell_type": "markdown",
   "id": "88399031",
   "metadata": {},
   "source": [
    "\n",
    "**Results**\n",
    "\n",
    "Test 2: sek=6.655, m=10, prec=None iterations=1101 ok\n",
    "\n",
    "Test 2: sek=2.756, m=10, prec=jacobi iterations=12 diverged\n",
    "\n",
    "Test 2: sek=2.931, m=10, prec=gauss_seidel iterations=12 diverged\n",
    "\n",
    "Test 2: sek=47.913, m=10, prec=ilu0 iterations=12 diverged\n",
    "\n",
    "Test 2: sek=6.275, m=50, prec=None iterations=1021 ok\n",
    "\n",
    "Test 2: sek=2.796, m=50, prec=jacobi iterations=44 ok\n",
    "\n",
    "Test 2: sek=2.577, m=50, prec=gauss_seidel iterations=26 ok\n",
    "\n",
    "Test 2: sek=71.908, m=50, prec=ilu0 iterations=17 ok\n",
    "\n",
    "Test 2: sek=6.632, m=200, prec=None iterations=835 ok\n",
    "\n",
    "Test 2: sek=2.427, m=200, prec=jacobi iterations=44 ok\n",
    "\n",
    "Test 2: sek=2.715, m=200, prec=gauss_seidel iterations=26 ok\n",
    "\n",
    "Test 2: sek=71.536, m=200, prec=ilu0 iterations=17 ok\n"
   ]
  },
  {
   "cell_type": "markdown",
   "id": "9ba37978",
   "metadata": {},
   "source": [
    "**m=10**"
   ]
  },
  {
   "cell_type": "code",
   "execution_count": null,
   "id": "77434762",
   "metadata": {},
   "outputs": [],
   "source": [
    "# Print & Plot results\n",
    "plt.figure(figsize=(10, 4))\n",
    "plt.cla()\n",
    "\n",
    "# Data\n",
    "errors = results[0]\n",
    "n_conv = len(errors)\n",
    "iterations = range(n_conv)\n",
    "plt.plot(iterations, np.abs(errors), label=f\"no preconditioner\")\n",
    "\n",
    "# Grid and Scale\n",
    "plt.yscale('log')\n",
    "plt.grid(True)\n",
    "plt.xlim([0, 600])\n",
    "plt.ylim([1e-8, 1])\n",
    "tick_width = 50\n",
    "plt.xticks([tick_width*i for i in range(int(650/tick_width))])\n",
    "\n",
    "# Annotations\n",
    "plt.xlabel('Iteration')\n",
    "plt.ylabel('Residual Norm (log scale)')\n",
    "plt.title(f'Convergence of GMRES(10) with and without preconditioning')\n",
    "plt.legend()\n",
    "\n",
    "# Save and Plot\n",
    "filename = \"conv_gmres_10.png\"\n",
    "plt.savefig(filename, dpi=300)\n",
    "plt.show()"
   ]
  },
  {
   "cell_type": "markdown",
   "id": "9067c9c3",
   "metadata": {},
   "source": [
    "**m=50**"
   ]
  },
  {
   "cell_type": "code",
   "execution_count": null,
   "id": "273e8c20",
   "metadata": {},
   "outputs": [],
   "source": [
    "# Print & Plot results\n",
    "plt.figure(figsize=(10, 4))\n",
    "plt.cla()\n",
    "\n",
    "# Data\n",
    "for i in range(4):\n",
    "    errors = results[1+i]\n",
    "    n_conv = len(errors)\n",
    "    iterations = range(n_conv)\n",
    "    plt.plot(iterations, np.abs(errors), label=f\"{preconditioners[i]}\")\n",
    "\n",
    "# Grid and Scale\n",
    "plt.yscale('log')\n",
    "plt.grid(True)\n",
    "plt.xlim([0, 600])\n",
    "plt.ylim([1e-8, 1])\n",
    "tick_width = 50\n",
    "plt.xticks([tick_width*i for i in range(int(650/tick_width))])\n",
    "\n",
    "# Annotations\n",
    "plt.xlabel('Iteration')\n",
    "plt.ylabel('Residual Norm (log scale)')\n",
    "plt.title(f'Convergence of GMRES(50) with and without preconditioning')\n",
    "plt.legend()\n",
    "\n",
    "# Save and Plot\n",
    "filename = \"conv_gmres_50.png\"\n",
    "plt.savefig(filename, dpi=300)\n",
    "plt.show()"
   ]
  },
  {
   "cell_type": "code",
   "execution_count": null,
   "id": "1c0f1374",
   "metadata": {},
   "outputs": [],
   "source": [
    "# Print & Plot results\n",
    "plt.figure(figsize=(10, 4))\n",
    "plt.cla()\n",
    "\n",
    "# Data\n",
    "for i in range(4):\n",
    "    errors = results[5+i]\n",
    "    n_conv = len(errors)\n",
    "    iterations = range(n_conv)\n",
    "    plt.plot(iterations, np.abs(errors), label=f\"{preconditioners[i]}\")\n",
    "\n",
    "# Grid and Scale\n",
    "plt.yscale('log')\n",
    "plt.grid(True)\n",
    "plt.xlim([0, 600])\n",
    "plt.ylim([1e-8, 1])\n",
    "tick_width = 50\n",
    "plt.xticks([tick_width*i for i in range(int(650/tick_width))])\n",
    "\n",
    "# Annotations\n",
    "plt.xlabel('Iteration')\n",
    "plt.ylabel('Residual Norm (log scale)')\n",
    "plt.title(f'Convergence of GMRES(200) with and without preconditioning')\n",
    "plt.legend()\n",
    "\n",
    "# Save and Plot\n",
    "filename = \"conv_gmres_200.png\"\n",
    "plt.savefig(filename, dpi=300)\n",
    "plt.show()"
   ]
  },
  {
   "cell_type": "markdown",
   "id": "e6a64285",
   "metadata": {},
   "source": [
    "**Task 3: Orthogonality**\n",
    "\n",
    "For full GMRES (without preconditioning): check the orthogonality of the Krylov vectors.\n",
    "\n",
    "**Hints**: Plot the computed values of v1 · vk against k on a semi-log scale."
   ]
  },
  {
   "cell_type": "code",
   "execution_count": null,
   "id": "f58632d6",
   "metadata": {},
   "outputs": [],
   "source": [
    "# Max number of Krylov vectors\n",
    "m = 600\n",
    "\n",
    "# Timing\n",
    "durations = []\n",
    "last_time = time()\n",
    "# Loop\n",
    "results = []\n",
    "preconditioner = None\n",
    "x_approx, dot_products = GMRES(A, b, x0, m, tol, preconditioner, max_iterations=1000, orthogonality=True)\n",
    "# Status message\n",
    "durations.append(round(time() - last_time, 3))\n",
    "last_time = time()\n",
    "n_conv = len(dot_products)\n",
    "print(f\"Test 1: sek={durations[-1]}, m=600, prec={preconditioner} iterations={n_conv} ok\")\n"
   ]
  },
  {
   "cell_type": "code",
   "execution_count": null,
   "id": "72f13cc7",
   "metadata": {},
   "outputs": [],
   "source": [
    "# Print & Plot results\n",
    "plt.figure(figsize=(10, 2))\n",
    "plt.cla()\n",
    "\n",
    "# Data\n",
    "n_conv = len(dot_products)\n",
    "iterations = range(n_conv)\n",
    "plt.plot(iterations, np.abs(dot_products), label=f\"no preconditioner\")\n",
    "\n",
    "# Grid and Scale\n",
    "# plt.yscale('log')\n",
    "plt.grid(True)\n",
    "# plt.xlim([0, 600])\n",
    "plt.ylim([-1, 1])\n",
    "tick_width = 50\n",
    "plt.xticks([tick_width*i for i in range(int(650/tick_width))])\n",
    "\n",
    "# Annotations\n",
    "plt.xlabel('Iteration')\n",
    "plt.ylabel(r'Dot product $v_0\\cdot v_i$')\n",
    "plt.title(r'Orthogonality check for GMRES without preconditioning: $v_0\\cdot v_i$')\n",
    "plt.legend()\n",
    "\n",
    "# Save and Plot\n",
    "filename = \"conv_gmres_orthogonality.png\"\n",
    "plt.savefig(filename, dpi=300)\n",
    "plt.show()"
   ]
  },
  {
   "cell_type": "markdown",
   "id": "57ad20a3",
   "metadata": {},
   "source": [
    "# Conjugate Gradient Method"
   ]
  },
  {
   "cell_type": "code",
   "execution_count": null,
   "id": "d9b5799e",
   "metadata": {},
   "outputs": [],
   "source": [
    "import os\n",
    "from msr_reader import msr_reader\n",
    "from conjugate_gradient import conjugate_gradient\n",
    "\n",
    "# Paths\n",
    "directory = os.getcwd() + \"\\\\matrices\\\\\"\n",
    "matrix_files = [\"cg_matrix_msr_1.txt\", # 0\n",
    "                \"cg_matrix_msr_2.txt\", # 1\n",
    "                \"gmres_matrix_msr_1.txt\", # 2\n",
    "                \"msr_test_non_symmetric.txt\", # 3\n",
    "                \"msr_test_symmetric.txt\"] # 4\n",
    "\n",
    "# Read each matrix\n",
    "matrices = []\n",
    "for file in matrix_files:\n",
    "    path = directory + f\"{file}\"\n",
    "    matrices.append(msr_reader(path))\n",
    "print(\"matrices read\")"
   ]
  },
  {
   "cell_type": "code",
   "execution_count": null,
   "id": "b7d90783",
   "metadata": {},
   "outputs": [],
   "source": [
    "# Create Initial Conditions\n",
    "A = matrices[1]\n",
    "n = A.shape[0]\n",
    "x = np.ones(n)\n",
    "x0 = np.zeros(n)\n",
    "b = A.dot(x)\n",
    "tol = 1e-8\n",
    "m = 1000\n",
    "\n",
    "# Solve\n",
    "x_approx, a_norm_errors, residuals = conjugate_gradient(A, b, x0, m, tol)\n",
    "np.round(x_approx, 2)[-10:]\n",
    "\n",
    "# calculate r_norms\n",
    "r_norms = []\n",
    "for r in residuals[1:]:\n",
    "    r_norms.append(np.linalg.norm(r))"
   ]
  },
  {
   "cell_type": "code",
   "execution_count": null,
   "id": "d7d55a83",
   "metadata": {},
   "outputs": [],
   "source": [
    "# Print & Plot results\n",
    "plt.figure(figsize=(10, 4))\n",
    "\n",
    "# Data\n",
    "n_conv = len(a_norm_errors)\n",
    "iterations = range(n_conv)\n",
    "plt.plot(iterations, np.abs(a_norm_errors), label=f\"a-norm\")\n",
    "plt.plot(iterations, np.abs(r_norms), label=f\"residuals\")\n",
    "\n",
    "# Grid and Scale\n",
    "plt.yscale('log')\n",
    "plt.grid(True)\n",
    "plt.xlim([0, 1000])\n",
    "# plt.ylim([-1, 1])\n",
    "tick_width = 50\n",
    "plt.xticks([tick_width*i for i in range(int(1050/tick_width))])\n",
    "\n",
    "# Annotations\n",
    "plt.xlabel('Iteration')\n",
    "plt.ylabel(r'A-norm & residual$')\n",
    "plt.title(r'Convergence of Conjugate Gradient Method')\n",
    "plt.legend()\n",
    "\n",
    "# Save and Plot\n",
    "filename = \"cg_convergence.png\"\n",
    "plt.savefig(filename, dpi=300)\n",
    "plt.show()"
   ]
  }
 ],
 "metadata": {
  "kernelspec": {
   "display_name": ".venv",
   "language": "python",
   "name": "python3"
  },
  "language_info": {
   "codemirror_mode": {
    "name": "ipython",
    "version": 3
   },
   "file_extension": ".py",
   "mimetype": "text/x-python",
   "name": "python",
   "nbconvert_exporter": "python",
   "pygments_lexer": "ipython3",
   "version": "3.13.1"
  }
 },
 "nbformat": 4,
 "nbformat_minor": 5
}
