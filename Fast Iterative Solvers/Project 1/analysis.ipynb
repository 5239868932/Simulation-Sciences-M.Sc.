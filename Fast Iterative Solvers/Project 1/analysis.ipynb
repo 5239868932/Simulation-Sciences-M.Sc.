{
 "cells": [
  {
   "cell_type": "markdown",
   "id": "8498ca41",
   "metadata": {},
   "source": [
    "# Imports & Data"
   ]
  },
  {
   "cell_type": "markdown",
   "id": "74ab92f8",
   "metadata": {},
   "source": [
    "**Imports**"
   ]
  },
  {
   "cell_type": "code",
   "execution_count": null,
   "id": "229b6eb8",
   "metadata": {},
   "outputs": [],
   "source": [
    "# External Libraries\n",
    "import os\n",
    "import matplotlib.pyplot as plt\n",
    "import numpy as np\n",
    "from time import process_time\n",
    "# My Code\n",
    "from gmres import GMRES\n",
    "from msr_reader import msr_reader"
   ]
  },
  {
   "cell_type": "markdown",
   "id": "7bacf9da",
   "metadata": {},
   "source": [
    "**Read Matrices**"
   ]
  },
  {
   "cell_type": "code",
   "execution_count": null,
   "id": "941e0ba9",
   "metadata": {},
   "outputs": [],
   "source": [
    "# Paths\n",
    "directory = os.getcwd() + \"\\\\matrices\\\\\"\n",
    "matrix_files = [\"cg_matrix_msr_1.txt\", # 0\n",
    "            \"cg_matrix_msr_2.txt\", # 1\n",
    "            \"gmres_matrix_msr_1.txt\", # 2\n",
    "            \"msr_test_non_symmetric.txt\", # 3\n",
    "            \"msr_test_symmetric.txt\"] # 4\n",
    "\n",
    "# Read each matrix\n",
    "matrices = []\n",
    "for file in matrix_files:\n",
    "    path = directory + f\"{file}\"\n",
    "    matrices.append(msr_reader(path))"
   ]
  },
  {
   "cell_type": "markdown",
   "id": "ffca1624",
   "metadata": {},
   "source": [
    "# GMRES\n",
    "\n",
    "**Common Settings**"
   ]
  },
  {
   "cell_type": "code",
   "execution_count": null,
   "id": "33bd160b",
   "metadata": {},
   "outputs": [],
   "source": [
    "# Types of preconditioning applied\n",
    "preconditioners = [None,\n",
    "                   \"jacobi\",\n",
    "                   \"gauss_seidel\",\n",
    "                   \"ilu0\"]\n",
    "\n",
    "nice_preconds = [\"No Preconditioner\",\n",
    "                 \"Jacobi\",\n",
    "                 \"Gauss-Seidel\",\n",
    "                 \"ILU(0)\"]\n",
    "\n",
    "# Further Specifications\n",
    "A = matrices[2]\n",
    "n = A.shape[0]\n",
    "x = np.ones(n)\n",
    "x0 = np.zeros(n)\n",
    "b = A.dot(x)\n",
    "tol = 1e-8"
   ]
  },
  {
   "cell_type": "markdown",
   "id": "52b3dd39",
   "metadata": {},
   "source": [
    "# GMRES\n",
    "\n",
    "**Task 1: full GMRES**\n",
    "\n",
    "For the full GMRES method, with and without preconditioning, plot the relative residual\n",
    "against iteration index on a semi-log scale."
   ]
  },
  {
   "cell_type": "code",
   "execution_count": null,
   "id": "c8932f02",
   "metadata": {},
   "outputs": [],
   "source": [
    "# Max number of Krylov vectors\n",
    "ms = [600]\n",
    "\n",
    "# Timing\n",
    "durations = []\n",
    "last_time = process_time()\n",
    "# Loop\n",
    "results = []\n",
    "for m in ms:\n",
    "    for preconditioner in preconditioners:\n",
    "        x_approx, errors = GMRES(A, b, x0, m, tol, preconditioner, max_iterations=1000)\n",
    "        results.append(errors)\n",
    "        # Status message\n",
    "        durations.append(round(process_time() - last_time, 3))\n",
    "        last_time = process_time()\n",
    "        n_conv = len(errors)\n",
    "        print(f\"Test 1: sek={durations[-1]}, m={m}, prec={preconditioner} iterations={n_conv} ok\")"
   ]
  },
  {
   "cell_type": "markdown",
   "id": "ef6747c4",
   "metadata": {},
   "source": [
    "**Results**\n",
    "\n",
    "<br>Test 1: sek=39.047, m=600, prec=None iterations=562 ok\n",
    "<br>Test 1: sek=3.094, m=600, prec=jacobi iterations=44 ok\n",
    "<br>Test 1: sek=18.797, m=600, prec=gauss_seidel iterations=26 ok\n",
    "<br>Test 1: sek=4.328, m=600, prec=ilu0 iterations=17 ok\n"
   ]
  },
  {
   "cell_type": "code",
   "execution_count": null,
   "id": "fc88900d",
   "metadata": {},
   "outputs": [],
   "source": [
    "# Print & Plot results\n",
    "plt.figure(figsize=(8, 4))\n",
    "\n",
    "for i, errors in enumerate(results):\n",
    "    # Print number of iterations for convergence\n",
    "    n_conv = len(errors)\n",
    "    iterations = range(n_conv)\n",
    "    plt.plot(iterations, np.abs(errors), label=f'{nice_preconds[i]}')\n",
    "\n",
    "# Grid and Scale\n",
    "plt.yscale('log')\n",
    "plt.grid(True)\n",
    "plt.xlim([0, 600])\n",
    "plt.ylim([1e-8, 1])\n",
    "tick_width = 50\n",
    "plt.xticks([tick_width*i for i in range(int(650/tick_width))])\n",
    "\n",
    "# Annotations\n",
    "plt.xlabel('Iteration')\n",
    "plt.ylabel('Residual Norm (log scale)')\n",
    "# plt.title(f'Convergence of full GMRES with and without preconditioning')\n",
    "plt.legend()\n",
    "\n",
    "# Save and Plot\n",
    "filename = \"conv_full_gmres.png\"\n",
    "plt.savefig(filename, dpi=300)\n",
    "plt.show()"
   ]
  },
  {
   "cell_type": "markdown",
   "id": "8276f418",
   "metadata": {},
   "source": [
    "**Task 2: GMRES(m)**\n",
    "\n",
    "For GMRES(m), test and compare the following restart parameters m = 10, 50, 200 with\n",
    "the runtime required by the full GMRES."
   ]
  },
  {
   "cell_type": "code",
   "execution_count": null,
   "id": "beaeea9e",
   "metadata": {},
   "outputs": [],
   "source": [
    "# Max number of Krylov vectors\n",
    "ms = [10, 50, 200]\n",
    "\n",
    "# Timing\n",
    "durations = []\n",
    "last_time = process_time()\n",
    "\n",
    "# Loop\n",
    "results = []\n",
    "for m in ms:\n",
    "    for preconditioner in preconditioners:\n",
    "        x_approx, errors = GMRES(A, b, x0, m, tol, preconditioner, max_iterations=10000)\n",
    "        # Status message\n",
    "        durations.append(round(process_time() - last_time, 3))\n",
    "        last_time = process_time()\n",
    "        n_conv = len(errors)\n",
    "        if abs(errors[-1]) > 1:\n",
    "            print(f\"Test 2: sek={durations[-1]}, m={m}, prec={preconditioner} iterations={n_conv} diverged\")\n",
    "        else:\n",
    "            results.append(errors)\n",
    "            print(f\"Test 2: sek={durations[-1]}, m={m}, prec={preconditioner} iterations={n_conv} ok\")"
   ]
  },
  {
   "cell_type": "markdown",
   "id": "88399031",
   "metadata": {},
   "source": [
    "\n",
    "**Results**\n",
    "\n",
    "<br>Test 2: sek=259.828, m=10, prec=None iterations=5929 ok\n",
    "<br>Test 2: sek=0.781, m=10, prec=jacobi iterations=12 diverged\n",
    "<br>Test 2: sek=17.531, m=10, prec=gauss_seidel iterations=12 diverged\n",
    "<br>Test 2: sek=4.156, m=10, prec=ilu0 iterations=12 diverged\n",
    "<br>Test 2: sek=84.688, m=50, prec=None iterations=1813 ok\n",
    "<br>Test 2: sek=4.188, m=50, prec=jacobi iterations=44 ok\n",
    "<br>Test 2: sek=19.906, m=50, prec=gauss_seidel iterations=26 ok\n",
    "<br>Test 2: sek=4.172, m=50, prec=ilu0 iterations=17 ok\n",
    "<br>Test 2: sek=41.531, m=200, prec=None iterations=835 ok\n",
    "<br>Test 2: sek=2.734, m=200, prec=jacobi iterations=44 ok\n",
    "<br>Test 2: sek=18.344, m=200, prec=gauss_seidel iterations=26 ok\n",
    "<br>Test 2: sek=4.297, m=200, prec=ilu0 iterations=17 ok\n"
   ]
  },
  {
   "cell_type": "markdown",
   "id": "9ba37978",
   "metadata": {},
   "source": [
    "**m=10**"
   ]
  },
  {
   "cell_type": "code",
   "execution_count": null,
   "id": "77434762",
   "metadata": {},
   "outputs": [],
   "source": [
    "# Print & Plot results\n",
    "plt.figure(figsize=(8, 4))\n",
    "\n",
    "# Data\n",
    "errors = results[0]\n",
    "n_conv = len(errors)\n",
    "iterations = range(n_conv)\n",
    "plt.plot(iterations, np.abs(errors), label=f\"No Preconditioner\")\n",
    "\n",
    "# Grid and Scale\n",
    "plt.yscale('log')\n",
    "plt.grid(True)\n",
    "plt.xlim([0, 6000])\n",
    "plt.ylim([1e-8,1])\n",
    "tick_width = 500\n",
    "plt.xticks([tick_width*i for i in range(int(6500/tick_width))])\n",
    "\n",
    "# Annotations\n",
    "plt.xlabel('Iteration')\n",
    "plt.ylabel('Residual Norm (log scale)')\n",
    "# plt.title(f'Convergence of GMRES(10) with and without preconditioning')\n",
    "plt.legend()\n",
    "\n",
    "# Save and Plot\n",
    "filename = \"conv_gmres_10.png\"\n",
    "plt.savefig(filename, dpi=300)\n",
    "plt.show()"
   ]
  },
  {
   "cell_type": "markdown",
   "id": "9067c9c3",
   "metadata": {},
   "source": [
    "**m=50**"
   ]
  },
  {
   "cell_type": "code",
   "execution_count": null,
   "id": "273e8c20",
   "metadata": {},
   "outputs": [],
   "source": [
    "# Print & Plot results\n",
    "plt.figure(figsize=(8, 4))\n",
    "\n",
    "# Data\n",
    "for i in range(4):\n",
    "    errors = results[1+i]\n",
    "    n_conv = len(errors)\n",
    "    iterations = range(n_conv)\n",
    "    plt.plot(iterations, np.abs(errors), label=f\"{nice_preconds[i]}\")\n",
    "\n",
    "# Grid and Scale\n",
    "plt.yscale('log')\n",
    "plt.grid(True)\n",
    "plt.xlim([0, 100])\n",
    "plt.ylim([1e-8, 1])\n",
    "tick_width = 10\n",
    "plt.xticks([tick_width*i for i in range(int(110/tick_width))])\n",
    "\n",
    "# Annotations\n",
    "plt.xlabel('Iteration')\n",
    "plt.ylabel('Residual Norm (log scale)')\n",
    "# plt.title(f'Convergence of GMRES(50) with and without preconditioning')\n",
    "plt.legend()\n",
    "\n",
    "# Save and Plot\n",
    "filename = \"conv_gmres_50.png\"\n",
    "plt.savefig(filename, dpi=300)\n",
    "plt.show()"
   ]
  },
  {
   "cell_type": "code",
   "execution_count": null,
   "id": "1c0f1374",
   "metadata": {},
   "outputs": [],
   "source": [
    "# Print & Plot results\n",
    "plt.figure(figsize=(8, 4))\n",
    "plt.cla()\n",
    "\n",
    "# Data\n",
    "for i in range(4):\n",
    "    errors = results[5+i]\n",
    "    n_conv = len(errors)\n",
    "    iterations = range(n_conv)\n",
    "    plt.plot(iterations, np.abs(errors), label=f\"{nice_preconds[i]}\")\n",
    "\n",
    "# Grid and Scale\n",
    "plt.yscale('log')\n",
    "plt.grid(True)\n",
    "plt.xlim([0, 100])\n",
    "plt.ylim([1e-8, 1])\n",
    "tick_width = 10\n",
    "plt.xticks([tick_width*i for i in range(int(110/tick_width))])\n",
    "\n",
    "# Annotations\n",
    "plt.xlabel('Iteration')\n",
    "plt.ylabel('Residual Norm (log scale)')\n",
    "# plt.title(f'Convergence of GMRES(200) with and without preconditioning')\n",
    "plt.legend()\n",
    "\n",
    "# Save and Plot\n",
    "filename = \"conv_gmres_200.png\"\n",
    "plt.savefig(filename, dpi=300)\n",
    "plt.show()"
   ]
  },
  {
   "cell_type": "markdown",
   "id": "e6a64285",
   "metadata": {},
   "source": [
    "**Task 3: Orthogonality**\n",
    "\n",
    "For full GMRES (without preconditioning): check the orthogonality of the Krylov vectors.\n",
    "\n",
    "**Hints**: Plot the computed values of v1 · vk against k on a semi-log scale."
   ]
  },
  {
   "cell_type": "code",
   "execution_count": null,
   "id": "f58632d6",
   "metadata": {},
   "outputs": [],
   "source": [
    "# Max number of Krylov vectors\n",
    "m = 600\n",
    "\n",
    "# Timing\n",
    "durations = []\n",
    "last_time = process_time()\n",
    "# Loop\n",
    "results = []\n",
    "preconditioner = None\n",
    "x_approx, dot_products = GMRES(A, b, x0, m, tol, preconditioner, max_iterations=1000, orthogonality=True)\n",
    "# Status message\n",
    "durations.append(round(process_time() - last_time, 3))\n",
    "last_time = process_time()\n",
    "n_conv = len(dot_products)\n",
    "print(f\"Test 1: sek={durations[-1]}, m=600, prec={preconditioner} iterations={n_conv} ok\")\n"
   ]
  },
  {
   "cell_type": "code",
   "execution_count": null,
   "id": "c4e93f07",
   "metadata": {},
   "outputs": [],
   "source": [
    "print(f\"Final orthogonality error: {dot_products[-1]}\")"
   ]
  },
  {
   "cell_type": "code",
   "execution_count": null,
   "id": "72f13cc7",
   "metadata": {},
   "outputs": [],
   "source": [
    "# Print & Plot results\n",
    "plt.figure(figsize=(8, 4))\n",
    "plt.cla()\n",
    "\n",
    "# Data\n",
    "n_conv = len(dot_products)\n",
    "iterations = range(n_conv)\n",
    "plt.plot(iterations, np.abs(dot_products))\n",
    "\n",
    "# Grid and Scale\n",
    "plt.yscale('log')\n",
    "plt.grid(True)\n",
    "plt.xlim([0, 600])\n",
    "plt.ylim([1e-16, 1e-8])\n",
    "tick_width = 50\n",
    "plt.xticks([tick_width*i for i in range(int(650/tick_width))])\n",
    "\n",
    "# Annotations\n",
    "plt.xlabel('Iteration')\n",
    "plt.ylabel(r'Dot product $v_0\\cdot v_i$')\n",
    "# plt.title(r'Orthogonality check for GMRES without preconditioning: $v_0\\cdot v_i$')\n",
    "# plt.legend()\n",
    "\n",
    "# Save and Plot\n",
    "filename = \"conv_gmres_orthogonality.png\"\n",
    "plt.savefig(filename, dpi=300)\n",
    "plt.show()"
   ]
  },
  {
   "cell_type": "markdown",
   "id": "57ad20a3",
   "metadata": {},
   "source": [
    "# Conjugate Gradient Method"
   ]
  },
  {
   "cell_type": "code",
   "execution_count": null,
   "id": "d9b5799e",
   "metadata": {},
   "outputs": [],
   "source": [
    "import os\n",
    "from time import process_time\n",
    "import numpy as np\n",
    "from msr_reader import msr_reader\n",
    "import matplotlib.pyplot as plt\n",
    "from conjugate_gradient import conjugate_gradient\n"
   ]
  },
  {
   "cell_type": "code",
   "execution_count": null,
   "id": "f0788088",
   "metadata": {},
   "outputs": [],
   "source": [
    "# Paths\n",
    "directory = os.getcwd() + \"\\\\matrices\\\\\"\n",
    "matrix_files = [\"cg_matrix_msr_1.txt\", # 0\n",
    "                \"cg_matrix_msr_2.txt\", # 1\n",
    "                \"gmres_matrix_msr_1.txt\", # 2\n",
    "                \"msr_test_non_symmetric.txt\", # 3\n",
    "                \"msr_test_symmetric.txt\"] # 4\n",
    "\n",
    "# Read each matrix\n",
    "matrices = []\n",
    "for file in matrix_files:\n",
    "    path = directory + f\"{file}\"\n",
    "    matrices.append(msr_reader(path))\n",
    "print(\"matrices read\")"
   ]
  },
  {
   "cell_type": "markdown",
   "id": "f9036187",
   "metadata": {},
   "source": [
    "## **Matrix 1**"
   ]
  },
  {
   "cell_type": "code",
   "execution_count": null,
   "id": "97c59532",
   "metadata": {},
   "outputs": [],
   "source": [
    "# Create Initial Conditions\n",
    "A = matrices[0]\n",
    "n = A.shape[0]\n",
    "x = np.ones(n)\n",
    "x0 = np.zeros(n)\n",
    "b = A.dot(x)\n",
    "tol = 1e-8\n",
    "m = 100000 # will stop earlier when tol (= 1e-8) is reached"
   ]
  },
  {
   "cell_type": "code",
   "execution_count": null,
   "id": "9ff93d46",
   "metadata": {},
   "outputs": [],
   "source": [
    "# Solve\n",
    "s = process_time()\n",
    "x_approx, a_norm_errors, residuals, rel_residuals = conjugate_gradient(A, b, x0, m, tol)\n",
    "print(f\"CG 1: {round(process_time()-s,3)} sec, {len(a_norm_errors)} iterations\")\n",
    "#print(f\"Test 1: sek={durations[-1]}, m=600, prec={preconditioner} iterations={n_conv} ok\")\n"
   ]
  },
  {
   "cell_type": "code",
   "execution_count": null,
   "id": "21e46c52",
   "metadata": {},
   "outputs": [],
   "source": [
    "# calculate r_norms\n",
    "r_norms = []\n",
    "for r in residuals:\n",
    "    r_norms.append(np.linalg.norm(r))"
   ]
  },
  {
   "cell_type": "markdown",
   "id": "a9051d30",
   "metadata": {},
   "source": [
    "## **Matrix 2**"
   ]
  },
  {
   "cell_type": "code",
   "execution_count": null,
   "id": "0c537a57",
   "metadata": {},
   "outputs": [],
   "source": [
    "# Create Initial Conditions\n",
    "A = matrices[1]\n",
    "n = A.shape[0]\n",
    "x = np.ones(n)\n",
    "x0 = np.zeros(n)\n",
    "b = A.dot(x)\n",
    "tol = 1e-8\n",
    "m = 100000 # will stop earlier when tol (= 1e-8) is reached"
   ]
  },
  {
   "cell_type": "code",
   "execution_count": null,
   "id": "79c8fa41",
   "metadata": {},
   "outputs": [],
   "source": [
    "# Solve\n",
    "s = process_time()\n",
    "x_approx2, a_norm_errors2, residuals2, rel_residuals2 = conjugate_gradient(A, b, x0, m, tol)\n",
    "print(f\"CG 2: {round(process_time()-s,3)} sec, {len(a_norm_errors2)} iterations\")"
   ]
  },
  {
   "cell_type": "code",
   "execution_count": null,
   "id": "05499a0d",
   "metadata": {},
   "outputs": [],
   "source": [
    "# calculate r_norms\n",
    "r_norms2 = []\n",
    "for r in residuals2:\n",
    "    r_norms2.append(np.linalg.norm(r))"
   ]
  },
  {
   "cell_type": "markdown",
   "id": "e7c07d4c",
   "metadata": {},
   "source": [
    "## **Plotting**"
   ]
  },
  {
   "cell_type": "code",
   "execution_count": null,
   "id": "3d269bae",
   "metadata": {},
   "outputs": [],
   "source": [
    "# Print & Plot results\n",
    "plt.figure(figsize=(8, 5))\n",
    "\n",
    "c_map1 = [\"#0083b3\", \"#12befd\", \"#9ae1fa\"]\n",
    "c_map2 = [\"#9800b3\", \"#e134ff\", \"#ee91ff\"]\n",
    "\n",
    "# MATRIX 1\n",
    "n_conv = len(a_norm_errors)\n",
    "iterations = range(n_conv)\n",
    "plt.plot(iterations, np.abs(r_norms), label=r\"Residual norm ($M_1$)\", color=c_map1[0])\n",
    "plt.plot(iterations, np.abs(a_norm_errors), label=r\"A-norm ($M_1$)\", color=c_map1[1]) # M1\n",
    "plt.plot(iterations, np.abs(rel_residuals), label=r\"Relative Residuals ($M_1$)\", color=c_map1[2])\n",
    "\n",
    "# MATRIX 2\n",
    "n_conv = len(a_norm_errors2)\n",
    "iterations = range(n_conv)\n",
    "plt.plot(iterations, np.abs(r_norms2), label=r\"Residual norm ($M_2$)\", color=c_map2[0])\n",
    "plt.plot(iterations, np.abs(a_norm_errors2), label=r\"A-norm ($M_2$)\", color=c_map2[1])\n",
    "plt.plot(iterations, np.abs(rel_residuals2), label=r\"Relative Residuals ($M_2$)\", color=c_map2[2])\n",
    "\n",
    "# Grid and Scale\n",
    "plt.yscale('log')\n",
    "plt.ylim([1e-8, 1e10])\n",
    "plt.grid(True)\n",
    "plt.xticks(range(0, 11000, 1000))\n",
    "\n",
    "# Annotations\n",
    "plt.xlabel('Iteration')\n",
    "plt.ylabel('Error Norm')\n",
    "plt.legend()\n",
    "\n",
    "# Save and Plot\n",
    "filename = f\"cg_convergence.png\"\n",
    "plt.tight_layout()\n",
    "plt.savefig(filename, dpi=300)\n",
    "plt.show()"
   ]
  },
  {
   "cell_type": "code",
   "execution_count": null,
   "id": "9ea47198",
   "metadata": {},
   "outputs": [],
   "source": []
  }
 ],
 "metadata": {
  "kernelspec": {
   "display_name": ".venv",
   "language": "python",
   "name": "python3"
  },
  "language_info": {
   "codemirror_mode": {
    "name": "ipython",
    "version": 3
   },
   "file_extension": ".py",
   "mimetype": "text/x-python",
   "name": "python",
   "nbconvert_exporter": "python",
   "pygments_lexer": "ipython3",
   "version": "3.13.1"
  }
 },
 "nbformat": 4,
 "nbformat_minor": 5
}
