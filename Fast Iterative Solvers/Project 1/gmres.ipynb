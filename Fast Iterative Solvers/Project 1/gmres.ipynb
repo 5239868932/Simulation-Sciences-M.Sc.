{
 "cells": [
  {
   "cell_type": "markdown",
   "id": "8498ca41",
   "metadata": {},
   "source": [
    "# Implementation of the GMRES algorithm\n",
    "\n",
    "### Last:\n",
    "- Implemented the Arnoldi Algorithm (Lecture 4)\n",
    "- Problem: Arnoldi is supposed to generate a Hessian Matrix H, but in my implementation I believe, only a vector h may be generated, although its not implemented yet.\n"
   ]
  },
  {
   "cell_type": "markdown",
   "id": "74ab92f8",
   "metadata": {},
   "source": [
    "**Imports**"
   ]
  },
  {
   "cell_type": "code",
   "execution_count": 4,
   "id": "229b6eb8",
   "metadata": {},
   "outputs": [],
   "source": [
    "import numpy as np\n",
    "import matplotlib.pyplot as plt\n",
    "from scipy.linalg import lu"
   ]
  },
  {
   "cell_type": "code",
   "execution_count": 5,
   "id": "89dfee69",
   "metadata": {},
   "outputs": [
    {
     "data": {
      "text/plain": [
       "True"
      ]
     },
     "execution_count": 5,
     "metadata": {},
     "output_type": "execute_result"
    }
   ],
   "source": [
    "import numpy as np\n",
    "from scipy.linalg import lu\n",
    "A = np.array([[2, 5, 8, 7], [5, 2, 2, 8], [7, 5, 6, 6], [5, 4, 4, 8]])\n",
    "p, l, u = lu(A)\n",
    "np.allclose(A, p @ l @ u)\n",
    "p  # Permutation matrix\n",
    "p, _, _ = lu(A, p_indices=True)\n",
    "p\n",
    "np.allclose(A, l[p, :] @ u)"
   ]
  },
  {
   "cell_type": "markdown",
   "id": "8e37f4c8",
   "metadata": {},
   "source": [
    "**Helper Functions**"
   ]
  },
  {
   "cell_type": "code",
   "execution_count": 6,
   "id": "a19f992c",
   "metadata": {},
   "outputs": [],
   "source": [
    "def unit_vector(direction=0, size=1):\n",
    "    e = np.zeros(size)\n",
    "    e[direction] = 1\n",
    "    return e\n",
    "\n",
    "def norm(v):\n",
    "    return np.sqrt(v.dot(v))\n",
    "\n",
    "def back_substitution(A, b):\n",
    "    n = len(b)\n",
    "    x = np.zeros(n)\n",
    "    \n",
    "    for i in range(n - 1, -1, -1):\n",
    "        if A[i, i] == 0:\n",
    "            raise ValueError(\"Matrix is singular at diagonal entry A[{},{}]\".format(i, i))\n",
    "        \n",
    "        sum_ax = 0\n",
    "        for j in range(i + 1, n):\n",
    "            sum_ax += A[i, j] * x[j]\n",
    "        \n",
    "        x[i] = (b[i] - sum_ax) / A[i, i]\n",
    "    \n",
    "    return x\n",
    "\n",
    "def back_substitution(U, b):\n",
    "    n = len(b)\n",
    "    x = np.zeros_like(b)\n",
    "    for i in reversed(range(n)):\n",
    "        if U[i, i] == 0:\n",
    "            raise ValueError(\"Matrix is singular\")\n",
    "        x[i] = (b[i] - np.dot(U[i, i+1:], x[i+1:])) / U[i, i]\n",
    "    return x"
   ]
  },
  {
   "cell_type": "markdown",
   "id": "4fa108c9",
   "metadata": {},
   "source": [
    "# Part 1: Algorithms and Data Structures\n",
    "### MSR Reader"
   ]
  },
  {
   "cell_type": "code",
   "execution_count": 7,
   "id": "894feba2",
   "metadata": {},
   "outputs": [],
   "source": [
    "def string_to_numbers_array(s, dtype=\"float\", sep=\" \"):\n",
    "    if s[-1:] == \"\\n\":\n",
    "        s = s[:-1]\n",
    "    str_arr = s.split(sep)\n",
    "    str_arr = [num for num in str_arr if num != \"\"]\n",
    "\n",
    "    if dtype == \"float\":\n",
    "        num_arr = np.array([float(string.strip()) for string in str_arr], dtype=\"float\")\n",
    "    if dtype == \"int\":\n",
    "        num_arr = np.array([int(string.strip()) for string in str_arr], dtype=\"int32\")\n",
    "        \n",
    "    return num_arr\n",
    "\n",
    "def msr_reader(path):\n",
    "\n",
    "    # READ FILE\n",
    "    bindx = []\n",
    "    values = []\n",
    "    with open(path) as f:\n",
    "        lines = f.readlines()\n",
    "        n, nnz = string_to_numbers_array(lines[1], dtype=\"int\") \n",
    "        bindx = np.zeros(nnz, dtype=\"int32\")\n",
    "        values = np.zeros(nnz, dtype=\"float\")\n",
    "        for i, l in enumerate(lines):\n",
    "            if i == 0:\n",
    "                symmetric = True if (l[0] == \"s\") else False\n",
    "            elif i > 1:\n",
    "                b, v = string_to_numbers_array(l)\n",
    "                bindx[i-2] = b\n",
    "                values[i-2] = v\n",
    "\n",
    "    # CONSTRUCT MATRIX\n",
    "    A = np.zeros(n*n).reshape(n,n)\n",
    "    # diagonal\n",
    "    for i in range(n):\n",
    "        A[i,i] = values[i]\n",
    "    # off-diagonal\n",
    "    off_counter = 0\n",
    "    for row in range(n):\n",
    "        noff = int(bindx[row+1] - bindx[row])\n",
    "        for i in range(noff):\n",
    "            col = bindx[(n+1) + off_counter]\n",
    "            val = values[(n+1) + off_counter]\n",
    "            A[row][col-1] = val\n",
    "            off_counter += 1\n",
    "    # symmetry\n",
    "    if symmetric:\n",
    "        for i in range(n):\n",
    "            for j in range(i):\n",
    "                A[j, i] = A[i, j]\n",
    "    \n",
    "    return A"
   ]
  },
  {
   "cell_type": "markdown",
   "id": "97c5919d",
   "metadata": {},
   "source": [
    "### GMRES(m)"
   ]
  },
  {
   "cell_type": "code",
   "execution_count": 8,
   "id": "a72fc827",
   "metadata": {},
   "outputs": [],
   "source": [
    "import numpy as np\n",
    "\n",
    "def back_substitution(U, b):\n",
    "    n = len(b)\n",
    "    x = np.zeros_like(b)\n",
    "    for i in reversed(range(n)):\n",
    "        if U[i, i] == 0:\n",
    "            raise ValueError(\"Matrix is singular\")\n",
    "        x[i] = (b[i] - np.dot(U[i, i+1:], x[i+1:])) / U[i, i]\n",
    "    return x\n",
    "\n",
    "def getKrylov(A, V, H, j):\n",
    "    w = A @ V[j]\n",
    "    for i in range(j + 1):\n",
    "        H[i, j] = np.dot(V[i], w)\n",
    "        w -= H[i, j] * V[i]\n",
    "    H[j + 1, j] = np.linalg.norm(w)\n",
    "    if H[j + 1, j] != 0:\n",
    "        V[j + 1] = w / H[j + 1, j]\n",
    "    return V, H\n",
    "\n",
    "def GMRES_restarted(A, b, x0, m, tol, max_iterations=600):\n",
    "\n",
    "    n = A.shape[0]\n",
    "    x = x0.copy()\n",
    "\n",
    "    # Initial residual\n",
    "    r = b - A @ x\n",
    "    r0_norm = np.linalg.norm(r)\n",
    "    beta = r0_norm\n",
    "\n",
    "    if r0_norm == 0:\n",
    "        return x, [0.0]  # Already solved\n",
    "\n",
    "    global_errors = [1.0]  # Initial relative residual is 1\n",
    "\n",
    "    iteration = 0  # Global iteration counter\n",
    "\n",
    "    while iteration < max_iterations:\n",
    "        # Step 1: Initialize inner GMRES storage\n",
    "        V = np.zeros((m + 1, n))\n",
    "        H = np.zeros((m + 1, m))\n",
    "        cs = np.zeros(m)\n",
    "        sn = np.zeros(m)\n",
    "        e1 = np.zeros(m + 1)\n",
    "\n",
    "        # Step 2: Normalize residual and initialize Krylov basis\n",
    "        r = b - A @ x\n",
    "        beta = np.linalg.norm(r)\n",
    "\n",
    "        if beta / r0_norm < tol:\n",
    "            break\n",
    "\n",
    "        V[0] = r / beta\n",
    "        e1[0] = beta\n",
    "\n",
    "        # Step 3: Inner GMRES loop (cycle of length m)\n",
    "        for j in range(m):\n",
    "            iteration += 1\n",
    "\n",
    "            # Arnoldi\n",
    "            V, H = getKrylov(A, V, H, j)\n",
    "\n",
    "            # Apply previous Givens rotations\n",
    "            for i in range(j):\n",
    "                temp = cs[i] * H[i, j] + sn[i] * H[i + 1, j]\n",
    "                H[i + 1, j] = -sn[i] * H[i, j] + cs[i] * H[i + 1, j]\n",
    "                H[i, j] = temp\n",
    "\n",
    "            # Compute new Givens rotation\n",
    "            denom = np.hypot(H[j, j], H[j + 1, j])\n",
    "            cs[j] = H[j, j] / denom if denom != 0 else 1.0\n",
    "            sn[j] = H[j + 1, j] / denom if denom != 0 else 0.0\n",
    "\n",
    "            # Apply new Givens rotation\n",
    "            H[j, j] = cs[j] * H[j, j] + sn[j] * H[j + 1, j]\n",
    "            H[j + 1, j] = 0.0\n",
    "\n",
    "            # Update RHS vector\n",
    "            temp = e1[j]\n",
    "            e1[j] = cs[j] * temp\n",
    "            e1[j + 1] = -sn[j] * temp\n",
    "\n",
    "            # Relative residual estimate\n",
    "            current_rel_residual = abs(e1[j + 1]) / r0_norm\n",
    "            global_errors.append(current_rel_residual)\n",
    "\n",
    "            # Check convergence\n",
    "            if current_rel_residual < tol:\n",
    "                y = back_substitution(H[:j + 1, :j + 1], e1[:j + 1])\n",
    "                x = x + V[:j + 1].T @ y\n",
    "                return x, global_errors\n",
    "\n",
    "            if iteration >= max_iterations:\n",
    "                break\n",
    "\n",
    "        # End of cycle: update solution\n",
    "        y = back_substitution(H[:m, :m], e1[:m])\n",
    "        x = x + V[:m].T @ y\n",
    "\n",
    "        # Final relative residual after restart\n",
    "        r = b - A @ x\n",
    "        beta = np.linalg.norm(r)\n",
    "        rel_res = beta / r0_norm\n",
    "        global_errors.append(rel_res)\n",
    "\n",
    "        if rel_res < tol:\n",
    "            break\n",
    "\n",
    "    return x, global_errors"
   ]
  },
  {
   "cell_type": "markdown",
   "id": "a8519919",
   "metadata": {},
   "source": [
    "### Preconditioning"
   ]
  },
  {
   "cell_type": "code",
   "execution_count": 9,
   "id": "f4ae8c6e",
   "metadata": {},
   "outputs": [
    {
     "name": "stdout",
     "output_type": "stream",
     "text": [
      "[[4 8 9 7]\n",
      " [6 7 6 3]\n",
      " [3 1 4 2]\n",
      " [1 7 7 6]]\n"
     ]
    },
    {
     "ename": "AttributeError",
     "evalue": "'Preconditioner' object has no attribute 'M'",
     "output_type": "error",
     "traceback": [
      "\u001b[31m---------------------------------------------------------------------------\u001b[39m",
      "\u001b[31mAttributeError\u001b[39m                            Traceback (most recent call last)",
      "\u001b[36mCell\u001b[39m\u001b[36m \u001b[39m\u001b[32mIn[9]\u001b[39m\u001b[32m, line 58\u001b[39m\n\u001b[32m     56\u001b[39m X = np.random.randint(size=(N,N), high=\u001b[32m10\u001b[39m, low=\u001b[32m1\u001b[39m).reshape(N,N)\n\u001b[32m     57\u001b[39m \u001b[38;5;28mprint\u001b[39m(X)\n\u001b[32m---> \u001b[39m\u001b[32m58\u001b[39m \u001b[38;5;28mprint\u001b[39m(\u001b[43mPreconditioner\u001b[49m\u001b[43m(\u001b[49m\u001b[43mX\u001b[49m\u001b[43m,\u001b[49m\u001b[43m \u001b[49m\u001b[33;43m\"\u001b[39;49m\u001b[33;43milu\u001b[39;49m\u001b[33;43m\"\u001b[39;49m\u001b[43m)\u001b[49m\u001b[43m.\u001b[49m\u001b[43mM\u001b[49m)\n",
      "\u001b[31mAttributeError\u001b[39m: 'Preconditioner' object has no attribute 'M'"
     ]
    }
   ],
   "source": [
    "class Preconditioner:\n",
    "    def __init__(self, A, type):\n",
    "        self.A = A\n",
    "        if type == \"jacobi\": self.M = self.jacobi()\n",
    "        elif type == \"gauss_seidel\": self.M = self.gauss_seidel()\n",
    "        elif type == \"ilu0\": self.M = self.ilu()\n",
    "\n",
    "    def jacobi(self):\n",
    "        n = self.A.shape[0]\n",
    "        D = np.identity(n) * np.diag(self.A)\n",
    "        return D\n",
    "    \n",
    "    def gauss_seidel(self):\n",
    "        n = self.A.shape[0]\n",
    "        L_vector = self.A[np.tril_indices(n, k=0)]\n",
    "        L = np.zeros((n, n))\n",
    "        L[np.tril_indices(n, k=0)] = L_vector\n",
    "        return L\n",
    "\n",
    "    def ilu0(self):\n",
    "        \"\"\" Description\n",
    "            The complete factorization is A = LU or for SPD matrices A = LL^T. Because the LU factorization\n",
    "            can be dense, even if A is sparse, incomplete LU factorization allows the matrix fill only at\n",
    "            pre-defined positions ij in a set P. In the case of the ILU(0) factorization, P includes all\n",
    "            positions where A is non-zero.\n",
    "            Pseudocode:\n",
    "            for i=2,...,n\n",
    "                for j=1,...,i-1\n",
    "                    if (i,j) in P:\n",
    "                        a_ij = a_ij/a_jj\n",
    "                    for k = j+1,...,n\n",
    "                        if (i,k) in P:\n",
    "                            a_ik = a_ik - a_ij * a_jk\n",
    "                    end\n",
    "                end\n",
    "            end\n",
    "        \"\"\"\n",
    "        A = self.A.copy()\n",
    "        n = A.shape[0]\n",
    "        # Only fill in locations where A is non-zero\n",
    "        nonzero = (A != 0)\n",
    "        \n",
    "        for i in range(1, n):\n",
    "            for j in range(i):\n",
    "                if nonzero[i, j]:\n",
    "                    if A[j, j] == 0:\n",
    "                        raise ZeroDivisionError(f\"Zero diagonal at A[{j},{j}] during ILU(0)\")\n",
    "                    A[i, j] /= A[j, j]\n",
    "                    for k in range(j + 1, n):\n",
    "                        if nonzero[i, k]:\n",
    "                            A[i, k] -= A[i, j] * A[j, k]\n",
    "\n",
    "        return A\n",
    "\n",
    "N = 4\n",
    "X = np.random.randint(size=(N,N), high=10, low=1).reshape(N,N)\n",
    "print(X)\n",
    "print(Preconditioner(X, \"ilu\").M)"
   ]
  },
  {
   "cell_type": "markdown",
   "id": "5b19275f",
   "metadata": {},
   "source": [
    "### Complete LU Decomposition"
   ]
  },
  {
   "cell_type": "code",
   "execution_count": null,
   "id": "57d590d3",
   "metadata": {},
   "outputs": [
    {
     "name": "stdout",
     "output_type": "stream",
     "text": [
      "[[2. 4. 1. 0.]\n",
      " [2. 1. 0. 4.]\n",
      " [1. 2. 4. 1.]\n",
      " [2. 0. 3. 4.]]\n"
     ]
    },
    {
     "name": "stderr",
     "output_type": "stream",
     "text": [
      "C:\\Users\\Sebastian\\AppData\\Local\\Temp\\ipykernel_27960\\554888482.py:21: RuntimeWarning: divide by zero encountered in scalar divide\n",
      "  mult_factor = A[row, col]/A[col, col]\n",
      "C:\\Users\\Sebastian\\AppData\\Local\\Temp\\ipykernel_27960\\554888482.py:22: RuntimeWarning: invalid value encountered in scalar multiply\n",
      "  A[row,:] = A[row,:] - mult_factor * A[col, col]\n",
      "C:\\Users\\Sebastian\\AppData\\Local\\Temp\\ipykernel_27960\\554888482.py:23: RuntimeWarning: invalid value encountered in scalar multiply\n",
      "  U[row,:] = U[row,:] - mult_factor * U[col, col]\n"
     ]
    },
    {
     "ename": "NameError",
     "evalue": "name 'linalg' is not defined",
     "output_type": "error",
     "traceback": [
      "\u001b[31m---------------------------------------------------------------------------\u001b[39m",
      "\u001b[31mNameError\u001b[39m                                 Traceback (most recent call last)",
      "\u001b[36mCell\u001b[39m\u001b[36m \u001b[39m\u001b[32mIn[16]\u001b[39m\u001b[32m, line 37\u001b[39m\n\u001b[32m     33\u001b[39m     \u001b[38;5;28;01mreturn\u001b[39;00m L, U\n\u001b[32m     35\u001b[39m L, U = LU_decomposition(A, \u001b[38;5;28mreversed\u001b[39m=\u001b[38;5;28;01mFalse\u001b[39;00m)\n\u001b[32m---> \u001b[39m\u001b[32m37\u001b[39m \u001b[43mlinalg\u001b[49m.lu(A)\n",
      "\u001b[31mNameError\u001b[39m: name 'linalg' is not defined"
     ]
    }
   ],
   "source": [
    "import numpy as np\n",
    "N = 4\n",
    "A = np.random.randint(size=(N,N), high=5, low=0).reshape(N,N)  + np.identity(N)\n",
    "print(A)\n",
    "\n",
    "# LU Decomposition\n",
    "def LU_decomposition(A, reversed=False):\n",
    "\n",
    "    # Verify square and non-zero entries on diagonal\n",
    "    assert A.shape[0] == A.shape[1]\n",
    "    N = A.shape[0]\n",
    "    assert np.count_nonzero(np.diag(A)) == N, \"Zero entries on diagonal\"\n",
    "\n",
    "    # Switch U and L if desired\n",
    "    if reversed: U = A.T.copy()\n",
    "    if not reversed: U = A.copy()\n",
    "\n",
    "    # Perform Gauss Elimination A[row, col]\n",
    "    for col in range(N-1):\n",
    "        for row in range(1, N-col):\n",
    "            mult_factor = U[row, col]/U[col, col]\n",
    "            U[row,:] = U[row,:] - mult_factor * U[col, col]\n",
    "    \n",
    "    # Reverse back \n",
    "    if reversed:\n",
    "        U = U.T\n",
    "        L = A - U + np.identity(N)\n",
    "    \n",
    "    # Lower triangular matrix is A\n",
    "    L = A\n",
    "    \n",
    "    return L, U\n",
    "\n",
    "L, U = LU_decomposition(A, reversed=False)\n",
    "\n",
    "linalg.lu(A)"
   ]
  },
  {
   "cell_type": "markdown",
   "id": "8f05a65b",
   "metadata": {},
   "source": [
    "# Part 2: Convergence\n",
    "### Read Matrix A"
   ]
  },
  {
   "cell_type": "code",
   "execution_count": 93,
   "id": "941e0ba9",
   "metadata": {},
   "outputs": [],
   "source": [
    "import os\n",
    "\n",
    "path = os.getcwd()\n",
    "matrices = [\"cg_matrix_msr_1.txt\", # 0\n",
    "            \"cg_matrix_msr_2.txt\", # 1\n",
    "            \"gmres_matrix_msr_1.txt\", # 2\n",
    "            \"msr_test_non_symmetric.txt\", # 3\n",
    "            \"msr_test_symmetric.txt\"] # 4\n",
    "\n",
    "path = path + f\"\\\\matrices\\\\{matrices[2]}\"\n",
    "\n",
    "A = msr_reader(path)"
   ]
  },
  {
   "cell_type": "markdown",
   "id": "ffca1624",
   "metadata": {},
   "source": [
    "### Initial Conditions"
   ]
  },
  {
   "cell_type": "code",
   "execution_count": 10,
   "id": "ae7b3433",
   "metadata": {},
   "outputs": [],
   "source": [
    "n = A.shape[0]\n",
    "x = np.ones(n)\n",
    "x0 = np.zeros(n)\n",
    "b = A.dot(x)\n",
    "m = 600\n",
    "tol = 1e-8\n",
    "\n",
    "x_approx, errors = GMRES_restarted(A, b, x0, m, tol, max_iterations=600)"
   ]
  },
  {
   "cell_type": "code",
   "execution_count": 11,
   "id": "b71ab359",
   "metadata": {},
   "outputs": [
    {
     "data": {
      "image/png": "[encoded data removed]",
      "text/plain": [
       "<Figure size 600x400 with 1 Axes>"
      ]
     },
     "metadata": {},
     "output_type": "display_data"
    }
   ],
   "source": [
    "import matplotlib.pyplot as plt\n",
    "import numpy as np\n",
    "\n",
    "iterations = range(len(errors))\n",
    "\n",
    "plt.figure(figsize=(6, 4))\n",
    "plt.plot(iterations, np.abs(errors))\n",
    "plt.yscale('log')\n",
    "plt.xlabel('Iteration')\n",
    "plt.ylabel('Residual Norm (log scale)')\n",
    "plt.title('Convergence of GMRES')\n",
    "plt.grid(True)\n",
    "\n",
    "plt.show()"
   ]
  },
  {
   "cell_type": "markdown",
   "id": "3fee99b2",
   "metadata": {},
   "source": [
    "<br><br><br><br><br><br><br><br><br><br><br><br><br><br>"
   ]
  },
  {
   "cell_type": "markdown",
   "id": "9fba10b8",
   "metadata": {},
   "source": [
    "**Separated Arnoldi Algorithm**\n",
    "\n",
    "I need to separate the Arnoldi Algorithm in order to implement it into the GMRES algorithm. However, I am not sure how exactly the matrices look like (shape). What is going where and "
   ]
  },
  {
   "cell_type": "code",
   "execution_count": 12,
   "id": "ec4ee0a3",
   "metadata": {},
   "outputs": [],
   "source": [
    "from numpy.linalg import norm, lstsq\n",
    "\n",
    "def gmres_restarted(A, b, x0, m, max_restarts, tol=1e-8):\n",
    "    \"\"\"\n",
    "    Solves the linear system Ax = b using restarted GMRES.\n",
    "    \n",
    "    Parameters:\n",
    "        A : np.ndarray\n",
    "            Coefficient matrix (assumed square)\n",
    "        b : np.ndarray\n",
    "            Right-hand side vector\n",
    "        x0 : np.ndarray\n",
    "            Initial guess for the solution\n",
    "        m : int\n",
    "            Dimension of the Krylov subspace (inner iterations)\n",
    "        max_restarts : int\n",
    "            Maximum number of restart cycles\n",
    "        tol : float\n",
    "            Tolerance for convergence based on residual norm\n",
    "\n",
    "    Returns:\n",
    "        x : np.ndarray\n",
    "            Approximate solution after convergence or max_restarts\n",
    "    \"\"\"\n",
    "    x = x0.copy()  # Initialize current solution\n",
    "\n",
    "    for restart in range(max_restarts):\n",
    "        # Compute the residual vector at the current approximation\n",
    "        r = b - A @ x\n",
    "        residual_norm = norm(r)\n",
    "\n",
    "        # Print current residual norm for tracking progress\n",
    "        print(f\"Restart {restart}: Residual norm = {residual_norm:.2e}\")\n",
    "\n",
    "        # Check for convergence\n",
    "        if residual_norm < tol:\n",
    "            break\n",
    "\n",
    "        # Generate Krylov subspace vectors and Hessenberg matrix using Arnoldi\n",
    "        V, H, beta = arnoldi(A, b, x, m)\n",
    "\n",
    "        # Construct e₁ = [β, 0, 0, ..., 0] ∈ ℝ^{m+1}\n",
    "        e1 = np.zeros(m+1)\n",
    "        e1[0] = beta\n",
    "\n",
    "        # Solve the least-squares problem min || H y - β e₁ ||\n",
    "        # This gives the best approximation within the Krylov subspace\n",
    "        y, _, _, _ = lstsq(H, e1, rcond=None)\n",
    "\n",
    "        # Update the solution: x ← x + V_m y\n",
    "        x += V[:, :m] @ y\n",
    "\n",
    "    return x"
   ]
  },
  {
   "cell_type": "code",
   "execution_count": 3,
   "id": "8f1ba298",
   "metadata": {},
   "outputs": [
    {
     "ename": "NameError",
     "evalue": "name 'arnoldi' is not defined",
     "output_type": "error",
     "traceback": [
      "\u001b[31m---------------------------------------------------------------------------\u001b[39m",
      "\u001b[31mNameError\u001b[39m                                 Traceback (most recent call last)",
      "\u001b[36mCell\u001b[39m\u001b[36m \u001b[39m\u001b[32mIn[3]\u001b[39m\u001b[32m, line 7\u001b[39m\n\u001b[32m      4\u001b[39m b = A.dot(x)\n\u001b[32m      5\u001b[39m x0 = np.random.randint(low=\u001b[32m1\u001b[39m,high=\u001b[32m9\u001b[39m, size=N)\n\u001b[32m----> \u001b[39m\u001b[32m7\u001b[39m V, H, beta = \u001b[43marnoldi\u001b[49m(A, b, x0, \u001b[32m4\u001b[39m)\n\u001b[32m      8\u001b[39m V\n",
      "\u001b[31mNameError\u001b[39m: name 'arnoldi' is not defined"
     ]
    }
   ],
   "source": [
    "N=10\n",
    "A = np.random.randint(low=1,high=9,size=(N,N))\n",
    "x = np.random.randint(low=1,high=9,size=N)\n",
    "b = A.dot(x)\n",
    "x0 = np.random.randint(low=1,high=9, size=N)\n",
    "\n",
    "V, H, beta = arnoldi(A, b, x0, 4)\n",
    "V"
   ]
  },
  {
   "cell_type": "markdown",
   "id": "b1524117",
   "metadata": {},
   "source": [
    "### GMRES Algorithm"
   ]
  },
  {
   "cell_type": "code",
   "execution_count": 197,
   "id": "f70c57e3",
   "metadata": {},
   "outputs": [],
   "source": [
    "def gmres(A, x0, b, m, tol):\n",
    "    \"\"\"\n",
    "    A: 2D numpy array - square\n",
    "    x0: 1D numpy array - initial guess\n",
    "    b: 1D numpy array - right hand side\n",
    "    m: integer - numer of iterations\n",
    "    tol: float - tolerance\n",
    "    \"\"\"\n",
    "    # Declaration\n",
    "    N = np.size(A, 0) # size of the square matrix (NxN)\n",
    "    R = np.zeros((m+1, N))\n",
    "    V = np.zeros((m+1, N))\n",
    "    H = 0\n",
    "\n",
    "    # Initialisation\n",
    "    R[0] = b - A.dot(x0)\n",
    "    norm_r0 = norm(R[0])\n",
    "    V[0] = R[0] / norm_r0\n",
    "    g = norm_r0 * unit_vector(0, N)\n",
    "\n",
    "    for j in range(m):\n",
    "        V[j+1], \n",
    "\n",
    "    return R"
   ]
  },
  {
   "cell_type": "code",
   "execution_count": 229,
   "id": "87664aeb",
   "metadata": {},
   "outputs": [],
   "source": [
    "import numpy as np\n",
    "\n",
    "H = np.array([[1, 1, 4], \n",
    "              [2, 5, 2], \n",
    "              [0, 6, 3]], dtype=float)\n",
    "\n",
    "# First rotation to eliminate H[1, 0]\n",
    "phi1 = np.arctan(H[1, 0] / H[0, 0])  # angle in radians\n",
    "\n",
    "# Optional: to view the angle in degrees\n",
    "deg1 = np.rad2deg(phi1)\n",
    "\n",
    "c1, s1 = np.cos(phi1), np.sin(phi1)\n",
    "\n",
    "G1 = np.array([[ c1, s1, 0],\n",
    "               [-s1, c1, 0],\n",
    "               [  0,  0, 1]])\n",
    "\n",
    "H_rot1 = G1.dot(H)\n",
    "\n",
    "# Second rotation to eliminate H_rot1[2, 1]\n",
    "phi2 = np.arctan(H_rot1[2, 1] / H_rot1[1, 1])\n",
    "\n",
    "# Optional: view angle\n",
    "deg2 = np.rad2deg(phi2)\n",
    "\n",
    "c2, s2 = np.cos(phi2), np.sin(phi2)\n",
    "\n",
    "G2 = np.array([[1,   0,  0],\n",
    "               [0,  c2, s2],\n",
    "               [0, -s2, c2]])\n",
    "\n",
    "H_rot2 = G2 @ H_rot1"
   ]
  },
  {
   "cell_type": "code",
   "execution_count": null,
   "id": "027da75a",
   "metadata": {},
   "outputs": [],
   "source": [
    "A = np.random.random(size=(100000000))\n",
    "B = np.zeros(100000000)\n",
    "for i, a in enumerate(A):\n",
    "    B[i] = a"
   ]
  },
  {
   "cell_type": "code",
   "execution_count": 302,
   "id": "01e5a527",
   "metadata": {},
   "outputs": [],
   "source": [
    "A = np.random.random(size=(10000000))\n",
    "B = np.zeros(10000000)\n",
    "for i, a in enumerate(A):\n",
    "    B[i] = a"
   ]
  },
  {
   "cell_type": "code",
   "execution_count": null,
   "id": "6c47e6c6",
   "metadata": {},
   "outputs": [],
   "source": []
  }
 ],
 "metadata": {
  "kernelspec": {
   "display_name": ".venv",
   "language": "python",
   "name": "python3"
  },
  "language_info": {
   "codemirror_mode": {
    "name": "ipython",
    "version": 3
   },
   "file_extension": ".py",
   "mimetype": "text/x-python",
   "name": "python",
   "nbconvert_exporter": "python",
   "pygments_lexer": "ipython3",
   "version": "3.13.1"
  }
 },
 "nbformat": 4,
 "nbformat_minor": 5
}
